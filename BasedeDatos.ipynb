{
 "cells": [
  {
   "cell_type": "markdown",
   "metadata": {},
   "source": [
    "# **Base de Datos**"
   ]
  },
  {
   "cell_type": "markdown",
   "metadata": {},
   "source": [
    "## Conectar con AWS"
   ]
  },
  {
   "cell_type": "code",
   "execution_count": 1,
   "metadata": {},
   "outputs": [],
   "source": [
    "import pymysql"
   ]
  },
  {
   "cell_type": "code",
   "execution_count": 2,
   "metadata": {},
   "outputs": [],
   "source": [
    "username = \"admin\" #tu user\n",
    "password = \"tu-contraseña\"\n",
    "host = \"tu-link-de-host\" \n",
    "port = 3306 #tu puerto"
   ]
  },
  {
   "cell_type": "code",
   "execution_count": 3,
   "metadata": {},
   "outputs": [],
   "source": [
    "db = pymysql.connect(host = host,\n",
    "                     user = username,\n",
    "                     password = password,\n",
    "                     cursorclass = pymysql.cursors.DictCursor\n",
    ")\n",
    "\n",
    "\n",
    "cursor = db.cursor()"
   ]
  },
  {
   "cell_type": "markdown",
   "metadata": {},
   "source": [
    "## Creación de base de datos y tabla"
   ]
  },
  {
   "cell_type": "code",
   "execution_count": null,
   "metadata": {},
   "outputs": [],
   "source": [
    "#create_db = '''CREATE DATABASE query_songs'''\n",
    "#cursor.execute(create_db)\n",
    "#cursor.connection.commit()\n",
    "#use_db = ''' USE query_songs'''\n",
    "#cursor.execute(use_db)\n",
    "#create_table = '''\n",
    "#CREATE TABLE query_responses (\n",
    "#    id INT NOT NULL auto_increment,\n",
    "#    song TEXT,\n",
    "#    artist TEXT,\n",
    "#    response TEXT,\n",
    "#    primary key (id)\n",
    "#   )'''\n",
    "#cursor.execute(create_table)"
   ]
  },
  {
   "cell_type": "code",
   "execution_count": 4,
   "metadata": {},
   "outputs": [
    {
     "data": {
      "text/plain": [
       "[{'Database': 'information_schema'},\n",
       " {'Database': 'mysql'},\n",
       " {'Database': 'performance_schema'},\n",
       " {'Database': 'query_songs'},\n",
       " {'Database': 'sys'}]"
      ]
     },
     "execution_count": 4,
     "metadata": {},
     "output_type": "execute_result"
    }
   ],
   "source": [
    "cursor.execute('SHOW DATABASES')\n",
    "cursor.fetchall()"
   ]
  },
  {
   "cell_type": "markdown",
   "metadata": {},
   "source": [
    "## Revisar datos ingresados\n"
   ]
  },
  {
   "cell_type": "code",
   "execution_count": 5,
   "metadata": {},
   "outputs": [
    {
     "data": {
      "text/plain": [
       "0"
      ]
     },
     "execution_count": 5,
     "metadata": {},
     "output_type": "execute_result"
    }
   ],
   "source": [
    "use_db = ''' USE query_songs'''\n",
    "cursor.execute(use_db)"
   ]
  },
  {
   "cell_type": "code",
   "execution_count": 6,
   "metadata": {},
   "outputs": [
    {
     "data": {
      "text/plain": [
       "[{'id': 1,\n",
       "  'song': 'Corazón de Poeta',\n",
       "  'artist': 'Jeanette',\n",
       "  'response': '1. \"Lobo\". de Lucía Méndez\\n2. \"Déjame\". de Yuri\\n3. \"Luna\". de Ana Gabriel\\n4. \"Acaríciame\". de María Conchita Alonso\\n5. \"Ayer y Hoy\". de Mocedades'},\n",
       " {'id': 2,\n",
       "  'song': 'New Light',\n",
       "  'artist': 'John Mayer',\n",
       "  'response': '1. \"My Kind\" - Hilary Duff\\n2. \"Carry Me Away\" - John Mayer \\n3. \"Cleopatra\" - The Lumineers\\n4. \"Pompeii\" - Bastille\\n5. \"Budapest\" - George Ezra'},\n",
       " {'id': 3,\n",
       "  'song': 'Creep',\n",
       "  'artist': 'Radiohead',\n",
       "  'response': '1. \"Bitter Sweet Symphony\" de The Verve\\n2. \"Losing My Religion\" de R.E.M.\\n3. \"Fake Plastic Trees\" de Stone Temple Pilots\\n4. \"Yellow\" de Coldplay\\n5. \"The Drugs Don\\'t Work\" de The Verve'},\n",
       " {'id': 4,\n",
       "  'song': 'Tangerine',\n",
       "  'artist': 'Led Zeppelin',\n",
       "  'response': '1. \"California Dreamin\\'\" de The Mamas & The Papas\\n2. \"Strawberry Fields Forever\" de The Beatles\\n3. \"White Room\" de Cream\\n4. \"Sunshine of Your Love\" de Cream\\n5. \"Going to California\" de Fleetwood Mac'}]"
      ]
     },
     "execution_count": 6,
     "metadata": {},
     "output_type": "execute_result"
    }
   ],
   "source": [
    "sql = '''SELECT * FROM query_responses'''\n",
    "cursor.execute(sql)\n",
    "datos = cursor.fetchall()\n",
    "datos"
   ]
  },
  {
   "cell_type": "code",
   "execution_count": 7,
   "metadata": {},
   "outputs": [],
   "source": [
    "db.close()"
   ]
  }
 ],
 "metadata": {
  "kernelspec": {
   "display_name": "Python 3",
   "language": "python",
   "name": "python3"
  },
  "language_info": {
   "codemirror_mode": {
    "name": "ipython",
    "version": 3
   },
   "file_extension": ".py",
   "mimetype": "text/x-python",
   "name": "python",
   "nbconvert_exporter": "python",
   "pygments_lexer": "ipython3",
   "version": "3.10.11"
  }
 },
 "nbformat": 4,
 "nbformat_minor": 2
}
